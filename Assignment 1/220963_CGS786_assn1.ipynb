{
 "cells": [
  {
   "cell_type": "code",
   "execution_count": 5,
   "id": "c40eb249",
   "metadata": {},
   "outputs": [
    {
     "name": "stdout",
     "output_type": "stream",
     "text": [
      "^C\n"
     ]
    },
    {
     "name": "stdout",
     "output_type": "stream",
     "text": [
      "Collecting neurodynex3\n",
      "  Downloading neurodynex3-1.0.4-py3-none-any.whl.metadata (1.0 kB)\n",
      "Requirement already satisfied: scipy==1.12.0 in c:\\users\\sankalp mittal\\appdata\\local\\programs\\python\\python312\\lib\\site-packages (from neurodynex3) (1.12.0)\n",
      "Collecting brian2==2.5.4 (from neurodynex3)\n",
      "  Downloading Brian2-2.5.4.tar.gz (1.6 MB)\n",
      "     ---------------------------------------- 0.0/1.6 MB ? eta -:--:--\n",
      "     -------------------------- ------------- 1.0/1.6 MB 7.2 MB/s eta 0:00:01\n",
      "     -------------------------- ------------- 1.0/1.6 MB 7.2 MB/s eta 0:00:01\n",
      "     -------------------------- ------------- 1.0/1.6 MB 7.2 MB/s eta 0:00:01\n",
      "     ---------------------------------------- 1.6/1.6 MB 1.9 MB/s eta 0:00:00\n",
      "  Installing build dependencies: started\n",
      "  Installing build dependencies: finished with status 'done'\n",
      "  Getting requirements to build wheel: started\n",
      "  Getting requirements to build wheel: finished with status 'done'\n",
      "  Preparing metadata (pyproject.toml): started\n",
      "  Preparing metadata (pyproject.toml): finished with status 'done'\n",
      "Requirement already satisfied: matplotlib==3.8.3 in c:\\users\\sankalp mittal\\appdata\\local\\programs\\python\\python312\\lib\\site-packages (from neurodynex3) (3.8.3)\n",
      "Requirement already satisfied: mpmath==1.3.0 in c:\\users\\sankalp mittal\\appdata\\local\\programs\\python\\python312\\lib\\site-packages (from neurodynex3) (1.3.0)\n",
      "Collecting setuptools==69.1.1 (from neurodynex3)\n",
      "  Downloading setuptools-69.1.1-py3-none-any.whl.metadata (6.2 kB)\n",
      "Collecting setuptools-scm==8.0.4 (from neurodynex3)\n",
      "  Downloading setuptools_scm-8.0.4-py3-none-any.whl.metadata (6.4 kB)\n",
      "Collecting mock==5.1.0 (from neurodynex3)\n",
      "  Downloading mock-5.1.0-py3-none-any.whl.metadata (3.0 kB)\n",
      "Collecting nose==1.3.7 (from neurodynex3)\n",
      "  Downloading nose-1.3.7-py3-none-any.whl.metadata (1.7 kB)\n",
      "Requirement already satisfied: numpy>=1.21 in c:\\users\\sankalp mittal\\appdata\\local\\programs\\python\\python312\\lib\\site-packages (from brian2==2.5.4->neurodynex3) (1.26.4)\n",
      "Collecting cython>=0.29 (from brian2==2.5.4->neurodynex3)\n",
      "  Using cached Cython-3.0.11-cp312-cp312-win_amd64.whl.metadata (3.2 kB)\n",
      "Requirement already satisfied: sympy>=1.2 in c:\\users\\sankalp mittal\\appdata\\local\\programs\\python\\python312\\lib\\site-packages (from brian2==2.5.4->neurodynex3) (1.12.1)\n",
      "Requirement already satisfied: pyparsing in c:\\users\\sankalp mittal\\appdata\\local\\programs\\python\\python312\\lib\\site-packages (from brian2==2.5.4->neurodynex3) (3.1.2)\n",
      "Requirement already satisfied: jinja2>=2.7 in c:\\users\\sankalp mittal\\appdata\\local\\programs\\python\\python312\\lib\\site-packages (from brian2==2.5.4->neurodynex3) (3.1.4)\n",
      "Collecting py-cpuinfo (from brian2==2.5.4->neurodynex3)\n",
      "  Downloading py_cpuinfo-9.0.0-py3-none-any.whl.metadata (794 bytes)\n",
      "Requirement already satisfied: packaging in c:\\users\\sankalp mittal\\appdata\\local\\programs\\python\\python312\\lib\\site-packages (from brian2==2.5.4->neurodynex3) (24.0)\n",
      "Requirement already satisfied: contourpy>=1.0.1 in c:\\users\\sankalp mittal\\appdata\\local\\programs\\python\\python312\\lib\\site-packages (from matplotlib==3.8.3->neurodynex3) (1.2.0)\n",
      "Requirement already satisfied: cycler>=0.10 in c:\\users\\sankalp mittal\\appdata\\local\\programs\\python\\python312\\lib\\site-packages (from matplotlib==3.8.3->neurodynex3) (0.12.1)\n",
      "Requirement already satisfied: fonttools>=4.22.0 in c:\\users\\sankalp mittal\\appdata\\local\\programs\\python\\python312\\lib\\site-packages (from matplotlib==3.8.3->neurodynex3) (4.50.0)\n",
      "Requirement already satisfied: kiwisolver>=1.3.1 in c:\\users\\sankalp mittal\\appdata\\local\\programs\\python\\python312\\lib\\site-packages (from matplotlib==3.8.3->neurodynex3) (1.4.5)\n",
      "Requirement already satisfied: pillow>=8 in c:\\users\\sankalp mittal\\appdata\\local\\programs\\python\\python312\\lib\\site-packages (from matplotlib==3.8.3->neurodynex3) (10.2.0)\n",
      "Requirement already satisfied: python-dateutil>=2.7 in c:\\users\\sankalp mittal\\appdata\\local\\programs\\python\\python312\\lib\\site-packages (from matplotlib==3.8.3->neurodynex3) (2.9.0.post0)\n",
      "Requirement already satisfied: typing-extensions in c:\\users\\sankalp mittal\\appdata\\local\\programs\\python\\python312\\lib\\site-packages (from setuptools-scm==8.0.4->neurodynex3) (4.12.2)\n",
      "Requirement already satisfied: MarkupSafe>=2.0 in c:\\users\\sankalp mittal\\appdata\\local\\programs\\python\\python312\\lib\\site-packages (from jinja2>=2.7->brian2==2.5.4->neurodynex3) (2.1.5)\n",
      "Requirement already satisfied: six>=1.5 in c:\\users\\sankalp mittal\\appdata\\local\\programs\\python\\python312\\lib\\site-packages (from python-dateutil>=2.7->matplotlib==3.8.3->neurodynex3) (1.16.0)\n",
      "Downloading neurodynex3-1.0.4-py3-none-any.whl (75 kB)\n",
      "Downloading mock-5.1.0-py3-none-any.whl (30 kB)\n",
      "Downloading nose-1.3.7-py3-none-any.whl (154 kB)\n",
      "Downloading setuptools-69.1.1-py3-none-any.whl (819 kB)\n",
      "   ---------------------------------------- 0.0/819.3 kB ? eta -:--:--\n",
      "   ---------------------------------------- 819.3/819.3 kB 8.8 MB/s eta 0:00:00\n",
      "Downloading setuptools_scm-8.0.4-py3-none-any.whl (42 kB)\n",
      "Using cached Cython-3.0.11-cp312-cp312-win_amd64.whl (2.8 MB)\n",
      "Downloading py_cpuinfo-9.0.0-py3-none-any.whl (22 kB)\n",
      "Building wheels for collected packages: brian2\n",
      "  Building wheel for brian2 (pyproject.toml): started\n",
      "  Building wheel for brian2 (pyproject.toml): finished with status 'done'\n",
      "  Created wheel for brian2: filename=Brian2-2.5.4-cp312-cp312-win_amd64.whl size=1090368 sha256=96670932d8b405e3aeda178c7f1a51f493eec036c70dc997a2ff54a422a1d170\n",
      "  Stored in directory: c:\\users\\sankalp mittal\\appdata\\local\\pip\\cache\\wheels\\fb\\9a\\a5\\d3ae783d2b781614a411bb42871060356faa9a3f630ee111b6\n",
      "Successfully built brian2\n",
      "Installing collected packages: py-cpuinfo, nose, setuptools, mock, cython, setuptools-scm, brian2, neurodynex3\n",
      "  Attempting uninstall: setuptools\n",
      "    Found existing installation: setuptools 75.8.0\n",
      "    Uninstalling setuptools-75.8.0:\n",
      "      Successfully uninstalled setuptools-75.8.0\n",
      "Successfully installed brian2-2.5.4 cython-3.0.11 mock-5.1.0 neurodynex3-1.0.4 nose-1.3.7 py-cpuinfo-9.0.0 setuptools-69.1.1 setuptools-scm-8.0.4\n"
     ]
    },
    {
     "name": "stderr",
     "output_type": "stream",
     "text": [
      "\n",
      "[notice] A new release of pip is available: 24.3.1 -> 25.0\n",
      "[notice] To update, run: C:\\Users\\Sankalp Mittal\\AppData\\Local\\Programs\\Python\\Python312\\python.exe -m pip install --upgrade pip\n"
     ]
    }
   ],
   "source": [
    "!pip install neurodynex3"
   ]
  },
  {
   "cell_type": "code",
   "execution_count": 3,
   "id": "normal-princess",
   "metadata": {},
   "outputs": [],
   "source": [
    "import numpy as np\n",
    "import pandas as pd\n",
    "import matplotlib.pyplot as plt\n",
    "plt.style.use('fivethirtyeight')\n",
    "from copy import deepcopy"
   ]
  },
  {
   "cell_type": "markdown",
   "id": "based-kelly",
   "metadata": {},
   "source": [
    "## Hopfield network model"
   ]
  },
  {
   "cell_type": "markdown",
   "id": "accessory-generic",
   "metadata": {},
   "source": [
    "In this simplified Hopfied model, each neuron can only take values +1 or -1. The network stores pixel patterns, and attempts to retrieve them given some cue in the form of a part of the original pattern used to set an initial state $S_i(t=0)$ for every neuron in the network. The network activation of all the neurons evolves as follows\n",
    "\n",
    "$$S_i(t+1) = sgn\\left(\\sum_j{w_{ij} S_j(t)}\\right), $$\n",
    "\n",
    "where the weight of every synaptic connection is calculated as,\n",
    "\n",
    "$$w_{ij} = \\frac{1}{N} \\sum_{\\mu}{p_i^\\mu p_j^\\mu}, $$\n",
    "\n",
    "where in turn, $N$ is the number of neurons, and $p_i^\\mu$ is the state of the $i^{th}$ neuron for encoding pattern $\\mu$."
   ]
  },
  {
   "cell_type": "markdown",
   "id": "false-earth",
   "metadata": {},
   "source": [
    "The code below is taken from this [link](https://neuronaldynamics-exercises.readthedocs.io/en/latest/exercises/hopfield-network.html). Follow the accompanying exercises to be better prepared for your assignment. Remember to install all needed libraries before trying to run it. "
   ]
  },
  {
   "cell_type": "code",
   "execution_count": 4,
   "id": "several-documentation",
   "metadata": {},
   "outputs": [
    {
     "ename": "ModuleNotFoundError",
     "evalue": "No module named 'neurodynex3'",
     "output_type": "error",
     "traceback": [
      "\u001b[1;31m---------------------------------------------------------------------------\u001b[0m",
      "\u001b[1;31mModuleNotFoundError\u001b[0m                       Traceback (most recent call last)",
      "Cell \u001b[1;32mIn[4], line 2\u001b[0m\n\u001b[0;32m      1\u001b[0m get_ipython()\u001b[38;5;241m.\u001b[39mrun_line_magic(\u001b[38;5;124m'\u001b[39m\u001b[38;5;124mmatplotlib\u001b[39m\u001b[38;5;124m'\u001b[39m, \u001b[38;5;124m'\u001b[39m\u001b[38;5;124minline\u001b[39m\u001b[38;5;124m'\u001b[39m)\n\u001b[1;32m----> 2\u001b[0m \u001b[38;5;28;01mfrom\u001b[39;00m \u001b[38;5;21;01mneurodynex3\u001b[39;00m\u001b[38;5;21;01m.\u001b[39;00m\u001b[38;5;21;01mhopfield_network\u001b[39;00m \u001b[38;5;28;01mimport\u001b[39;00m network, pattern_tools, plot_tools\n\u001b[0;32m      4\u001b[0m pattern_size \u001b[38;5;241m=\u001b[39m \u001b[38;5;241m4\u001b[39m\n\u001b[0;32m      6\u001b[0m \u001b[38;5;66;03m# create an instance of the class HopfieldNetwork\u001b[39;00m\n",
      "\u001b[1;31mModuleNotFoundError\u001b[0m: No module named 'neurodynex3'"
     ]
    }
   ],
   "source": [
    "%matplotlib inline\n",
    "from neurodynex3.hopfield_network import network, pattern_tools, plot_tools\n",
    "\n",
    "pattern_size = 4\n",
    "\n",
    "# create an instance of the class HopfieldNetwork\n",
    "hopfield_net = network.HopfieldNetwork(nr_neurons= pattern_size**2)\n",
    "# instantiate a pattern factory\n",
    "factory = pattern_tools.PatternFactory(pattern_size, pattern_size)\n",
    "# create a checkerboard pattern and add it to the pattern list\n",
    "checkerboard = factory.create_checkerboard()\n",
    "pattern_list = [checkerboard]\n",
    "\n",
    "# add random patterns to the list\n",
    "pattern_list.extend(factory.create_random_pattern_list(nr_patterns=4, on_probability=0.5))\n",
    "plot_tools.plot_pattern_list(pattern_list)\n",
    "# how similar are the random patterns and the checkerboard? Check the overlaps\n",
    "overlap_matrix = pattern_tools.compute_overlap_matrix(pattern_list)\n",
    "#plot_tools.plot_overlap_matrix(overlap_matrix)\n",
    "\n",
    "# let the hopfield network \"learn\" the patterns. Note: they are not stored\n",
    "# explicitly but only network weights are updated !\n",
    "hopfield_net.store_patterns(pattern_list)\n",
    "\n",
    "# create a noisy version of a pattern and use that to initialize the network\n",
    "noisy_init_state = pattern_tools.flip_n(checkerboard, nr_of_flips=4)\n",
    "hopfield_net.set_state_from_pattern(noisy_init_state)\n",
    "\n",
    "# from this initial state, let the network dynamics evolve.\n",
    "states = hopfield_net.run_with_monitoring(nr_steps=3)\n",
    "\n",
    "# each network state is a vector. reshape it to the same shape used to create the patterns.\n",
    "states_as_patterns = factory.reshape_patterns(states)\n",
    "# plot the states of the network\n",
    "plot_tools.plot_state_sequence_and_overlap(states_as_patterns, pattern_list, reference_idx=0, suptitle=\"Network dynamics\")\n"
   ]
  },
  {
   "cell_type": "markdown",
   "id": "upset-embassy",
   "metadata": {},
   "source": [
    "## Our own Hopfield network model"
   ]
  },
  {
   "cell_type": "markdown",
   "id": "spectacular-morocco",
   "metadata": {},
   "source": [
    "You will write your own code to build a Hopfield network. I am leaving sample expected results below as a guide. "
   ]
  },
  {
   "cell_type": "code",
   "execution_count": 40,
   "id": "sunrise-glucose",
   "metadata": {},
   "outputs": [
    {
     "data": {
      "image/png": "[encoded data removed]",
      "text/plain": [
       "<Figure size 432x288 with 5 Axes>"
      ]
     },
     "metadata": {
      "needs_background": "light"
     },
     "output_type": "display_data"
    },
    {
     "data": {
      "image/png": "[encoded data removed]",
      "text/plain": [
       "<Figure size 432x288 with 1 Axes>"
      ]
     },
     "metadata": {
      "needs_background": "light"
     },
     "output_type": "display_data"
    },
    {
     "name": "stdout",
     "output_type": "stream",
     "text": [
      "\n"
     ]
    },
    {
     "data": {
      "image/png": "[encoded data removed]",
      "text/plain": [
       "<Figure size 432x288 with 8 Axes>"
      ]
     },
     "metadata": {
      "needs_background": "light"
     },
     "output_type": "display_data"
    }
   ],
   "source": [
    "plist = get_patterns(4,5)\n",
    "#plot_tools.plot_pattern_list(plist)\n",
    "\n",
    "cue = deepcopy(plist)\n",
    "\n",
    "S = perturb_pattern(cue[0],3)\n",
    "wghts = calculate_weights(plist, pattern_size)\n",
    "\n",
    "state_list =[S]\n",
    "#state_list.append(S)\n",
    "#print(state_list)\n",
    "#plot_tools.plot_pattern(S)\n",
    "for i in range(3):\n",
    "    state_list.append(network_evolution(S,wghts))\n",
    "#    state_list.append(S)\n",
    "\n",
    "plot_tools.plot_pattern_list(plist)\n",
    "#print(state_list[0])\n",
    "plot_tools.plot_pattern(state_list[0])\n",
    "plot_tools.plot_state_sequence_and_overlap(state_list, plist, reference_idx=0, suptitle=\"Network dynamics\")"
   ]
  },
  {
   "cell_type": "markdown",
   "id": "involved-batman",
   "metadata": {},
   "source": [
    "## Assignment 1"
   ]
  },
  {
   "cell_type": "markdown",
   "id": "uniform-samuel",
   "metadata": {},
   "source": [
    "Q1. Can you write you own Hopfield network model that works more or less like the one simulated above? (20 points)\n",
    "\n",
    "Q2. Run the model with different parameters to figure out how the model's capacity to retrieve the correct pattern in response to a cue deteriorates as a function of \n",
    "(a) the informativeness of the cue\n",
    "(b) the number of other patterns stored in the network\n",
    "(c) the size of the network\n",
    "\n",
    "Present your answers with plots and/or math. (20 points)\n",
    "\n",
    "Q3. Can you write a function that converts MNIST digit [data](https://gitlab.com/datapythonista/mnist) to the sort of patterns used in this simulation? (20 points)\n",
    "\n",
    "Q4. Can you write an MNIST classifier using the Hopfield network?. Can you characterize its performance using F-score, and compare with [classical](https://github.com/ksopyla/svm_mnist_digit_classification) and [deep](https://github.com/hwalsuklee/tensorflow-mnist-cnn) supervised learning methods? Remember that you can always use multiple samples of the same digit even for the Hopfield network classifier. Summarize your sense of the merits and demerits of using a Hopfield network as a classifier (40 points) "
   ]
  },
  {
   "cell_type": "code",
   "execution_count": null,
   "id": "secure-barbados",
   "metadata": {},
   "outputs": [],
   "source": []
  }
 ],
 "metadata": {
  "kernelspec": {
   "display_name": "Python 3",
   "language": "python",
   "name": "python3"
  },
  "language_info": {
   "codemirror_mode": {
    "name": "ipython",
    "version": 3
   },
   "file_extension": ".py",
   "mimetype": "text/x-python",
   "name": "python",
   "nbconvert_exporter": "python",
   "pygments_lexer": "ipython3",
   "version": "3.11.3"
  }
 },
 "nbformat": 4,
 "nbformat_minor": 5
}
