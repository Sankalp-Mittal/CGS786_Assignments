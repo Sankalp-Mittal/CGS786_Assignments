{
 "cells": [
  {
   "cell_type": "markdown",
   "metadata": {},
   "source": [
    "# Gestalt Principles and CNNs\n",
    "- Submitted by Sankalp Mittal (220963)"
   ]
  },
  {
   "cell_type": "markdown",
   "metadata": {},
   "source": [
    "# Part a\n",
    "In this part we are required to repriduce the study design using inception v4 networks instead of inception v3 networks"
   ]
  },
  {
   "cell_type": "markdown",
   "metadata": {},
   "source": [
    "## InceptionV4 Implementation\n",
    "I am using the following [github](https://github.com/kentsommer/keras-inceptionV4/tree/master) repository for the code for InceptionV4 model implementation as it was not available in the keras library"
   ]
  },
  {
   "cell_type": "code",
   "execution_count": 10,
   "metadata": {},
   "outputs": [
    {
     "name": "stderr",
     "output_type": "stream",
     "text": [
      "2025-04-03 22:33:30.715351: I tensorflow/core/util/port.cc:153] oneDNN custom operations are on. You may see slightly different numerical results due to floating-point round-off errors from different computation orders. To turn them off, set the environment variable `TF_ENABLE_ONEDNN_OPTS=0`.\n",
      "2025-04-03 22:33:30.716099: I external/local_xla/xla/tsl/cuda/cudart_stub.cc:32] Could not find cuda drivers on your machine, GPU will not be used.\n",
      "2025-04-03 22:33:30.720426: I external/local_xla/xla/tsl/cuda/cudart_stub.cc:32] Could not find cuda drivers on your machine, GPU will not be used.\n",
      "2025-04-03 22:33:30.734144: E external/local_xla/xla/stream_executor/cuda/cuda_fft.cc:467] Unable to register cuFFT factory: Attempting to register factory for plugin cuFFT when one has already been registered\n",
      "WARNING: All log messages before absl::InitializeLog() is called are written to STDERR\n",
      "E0000 00:00:1743699810.755948   22324 cuda_dnn.cc:8579] Unable to register cuDNN factory: Attempting to register factory for plugin cuDNN when one has already been registered\n",
      "E0000 00:00:1743699810.761319   22324 cuda_blas.cc:1407] Unable to register cuBLAS factory: Attempting to register factory for plugin cuBLAS when one has already been registered\n",
      "W0000 00:00:1743699810.775159   22324 computation_placer.cc:177] computation placer already registered. Please check linkage and avoid linking the same target more than once.\n",
      "W0000 00:00:1743699810.775181   22324 computation_placer.cc:177] computation placer already registered. Please check linkage and avoid linking the same target more than once.\n",
      "W0000 00:00:1743699810.775182   22324 computation_placer.cc:177] computation placer already registered. Please check linkage and avoid linking the same target more than once.\n",
      "W0000 00:00:1743699810.775183   22324 computation_placer.cc:177] computation placer already registered. Please check linkage and avoid linking the same target more than once.\n",
      "2025-04-03 22:33:30.780368: I tensorflow/core/platform/cpu_feature_guard.cc:210] This TensorFlow binary is optimized to use available CPU instructions in performance-critical operations.\n",
      "To enable the following instructions: AVX2 AVX_VNNI FMA, in other operations, rebuild TensorFlow with the appropriate compiler flags.\n"
     ]
    }
   ],
   "source": [
    "# from tensorflow.keras.layers import Input, GlobalAveragePooling2D, Dense\n",
    "# from tensorflow.keras.models import Model\n",
    "import inception_v4"
   ]
  },
  {
   "cell_type": "code",
   "execution_count": 11,
   "metadata": {},
   "outputs": [],
   "source": [
    "def build_inceptionV4(num_classes=1001, dropout_prob=0.2, weights='imagenet', include_top=True):\n",
    "    try:\n",
    "        return inception_v4.create_model(num_classes, dropout_prob, weights, include_top)\n",
    "    except ValueError:\n",
    "        try:\n",
    "            return inception_v4.create_model(num_classes, dropout_prob, weights, include_top)\n",
    "        except ValueError:\n",
    "            return inception_v4.create_model(num_classes, dropout_prob, weights, include_top)"
   ]
  },
  {
   "cell_type": "markdown",
   "metadata": {},
   "source": [
    "Just a check to see model is being built without any problems"
   ]
  },
  {
   "cell_type": "code",
   "execution_count": 12,
   "metadata": {},
   "outputs": [
    {
     "name": "stderr",
     "output_type": "stream",
     "text": [
      "E0000 00:00:1743699815.421209   22324 cuda_executor.cc:1228] INTERNAL: CUDA Runtime error: Failed call to cudaGetRuntimeVersion: Error loading CUDA libraries. GPU will not be used.: Error loading CUDA libraries. GPU will not be used.\n",
      "W0000 00:00:1743699815.421853   22324 gpu_device.cc:2341] Cannot dlopen some GPU libraries. Please make sure the missing libraries mentioned above are installed properly if you would like to use GPU. Follow the guide at https://www.tensorflow.org/install/gpu for how to download and setup the required libraries for your platform.\n",
      "Skipping registering GPU devices...\n"
     ]
    }
   ],
   "source": [
    "model = build_inceptionV4(num_classes=1001, dropout_prob=0.2, weights='imagenet')"
   ]
  },
  {
   "cell_type": "markdown",
   "metadata": {},
   "source": [
    "# Generate Data\n",
    "We generate the datasets using the `createImage` file using the following commands in the file directly\n",
    "```\n",
    "generate_global_symmetric_data()\n",
    "```\n",
    "We only generate global symmetry data as only that is asked in the question, even that comes out to be approximately __8GB__ in size just for _ds1_ and _ds2_ after which my system started killing the process, so I generated the datasets sequentially so that the run goes smoothly.\n",
    "\n",
    "As even that was not working I just generated a dataset of size 10% of what was mentioned in the paper. "
   ]
  },
  {
   "cell_type": "markdown",
   "metadata": {},
   "source": [
    "# Part b\n",
    "In this part we try to reproduce the results produced for InceptionV3 models with InceptionV4 for the case of detecting symmetry in images"
   ]
  },
  {
   "cell_type": "markdown",
   "metadata": {},
   "source": [
    "We will use the same helper functions for training as in the case of InceptionV3 so I have imported them directly from the `train_incep3.py` file"
   ]
  },
  {
   "cell_type": "code",
   "execution_count": 13,
   "metadata": {},
   "outputs": [],
   "source": [
    "import train_incep3\n",
    "import os\n",
    "import numpy as np"
   ]
  },
  {
   "cell_type": "markdown",
   "metadata": {},
   "source": [
    "## Training Runs\n",
    "This will run on ds1,ds2,ds3,ds4"
   ]
  },
  {
   "cell_type": "code",
   "execution_count": 23,
   "metadata": {},
   "outputs": [],
   "source": [
    "def training_run(ds_path,resume_model = None, im_noise = False, num_classes = 2):\n",
    "    ds = ds_path\n",
    "    im_noise = False\n",
    "\n",
    "    nb_epoch2 = 70\n",
    "\n",
    "    if not os.path.exists('models'):\n",
    "        os.mkdir('models')\n",
    "\n",
    "    # load data\n",
    "    tx, ty = train_incep3.read_dataset(ds+'/train.data')\n",
    "    vx, vy = train_incep3.read_dataset(ds+'/valid.data')\n",
    "\n",
    "    nTrainSample = len(ty)\n",
    "\n",
    "    tx = train_incep3.preprocessing_img(tx)\n",
    "    vx = train_incep3.preprocessing_img(vx)\n",
    "    print(\"tx.shape: \", tx.shape)\n",
    "    # print(\"ty.shape: \", ty.shape)\n",
    "    print(\"vx.shape: \", vx.shape)\n",
    "    # print(\"vy.shape: \", vy.shape)\n",
    "\n",
    "    tx = np.asarray(tx)[:, np.newaxis, :, :]\n",
    "    vx = np.asarray(vx)[:, np.newaxis, :, :]\n",
    "    tx = np.repeat(tx, 3, axis=1)\n",
    "    vx = np.repeat(vx, 3, axis=1)\n",
    "\n",
    "        \n",
    "    ty = train_incep3.to_categorical(ty, num_classes)\n",
    "    vy = train_incep3.to_categorical(vy, num_classes)\n",
    "\n",
    "    ## build model\n",
    "    print(\"About to build model\")\n",
    "    model = build_inceptionV4(num_classes=num_classes)\n",
    "\n",
    "    datagen = train_incep3.ImageDataGenerator(\n",
    "        preprocessing_function=train_incep3.add_random_noise if im_noise else None,\n",
    "        featurewise_center=False,  # set input mean to 0 over the dataset\n",
    "        samplewise_center=False,  # set each sample mean to 0\n",
    "        featurewise_std_normalization=False,  # divide inputs by std of the dataset\n",
    "        samplewise_std_normalization=False,  # divide each input by its std\n",
    "        zca_whitening=False,  # apply ZCA whitening\n",
    "        rotation_range=5,  # randomly rotate images in the range (degrees, 0 to 180)\n",
    "        width_shift_range=0.02,  # randomly shift images horizontally (fraction of total width)\n",
    "        height_shift_range=0.02,  # randomly shift images vertically (fraction of total height)\n",
    "        horizontal_flip=True,  # randomly flip images\n",
    "        vertical_flip=True)  # randomly flip images\n",
    "        \n",
    "\n",
    "    if resume_model is not None:\n",
    "        print('Resume model: ', resume_model)\n",
    "        model.load_weights(resume_model)\n",
    "\n",
    "\n",
    "\n",
    "    # model.compile(optimizer=SGD(lr=0.0001, momentum=0.9), loss='categorical_crossentropy', metrics=['accuracy'])\n",
    "    model.compile(optimizer='rmsprop', loss='categorical_crossentropy', metrics=['accuracy'])\n",
    "\n",
    "\n",
    "    filepath2=\"models/\"+ds+\"_incep3-{epoch:02d}-{val_acc:.3f}.weights.h5\"\n",
    "    checkpoint2 = train_incep3.callbacks.ModelCheckpoint(filepath2, monitor='val_acc', verbose=0, save_best_only=True, mode='max', save_weights_only=True)\n",
    "\n",
    "    early_stopper   = train_incep3.EarlyStopping(monitor='val_acc', min_delta=0.0001, patience=40)\n",
    "\n",
    "    callbacks_list2 = [early_stopper, checkpoint2]\n",
    "\n",
    "    # we train our model \n",
    "    model.fit(datagen.flow(tx, ty, batch_size=40, shuffle=True),\n",
    "                        steps_per_epoch=nTrainSample//40,\n",
    "                        epochs=nb_epoch2,\n",
    "                        validation_data=(vx, vy),\n",
    "                        callbacks=callbacks_list2)\n",
    "\n",
    "            \n",
    "    # serialize last weights to HDF5\n",
    "    model.save_weights(ds+\"_incep3-%d.weights.h5\"%(nb_epoch2))\n",
    "\n",
    "    print(\"Saved last weights to disk\")"
   ]
  },
  {
   "cell_type": "code",
   "execution_count": null,
   "metadata": {},
   "outputs": [
    {
     "ename": "",
     "evalue": "",
     "output_type": "error",
     "traceback": [
      "\u001b[1;31mThe Kernel crashed while executing code in the current cell or a previous cell. \n",
      "\u001b[1;31mPlease review the code in the cell(s) to identify a possible cause of the failure. \n",
      "\u001b[1;31mClick <a href='https://aka.ms/vscodeJupyterKernelCrash'>here</a> for more info. \n",
      "\u001b[1;31mView Jupyter <a href='command:jupyter.viewOutput'>log</a> for further details."
     ]
    }
   ],
   "source": [
    "# Training run 1\n",
    "training_run(\"data\\\\symmetry_global\\\\ds1\", resume_model = None, im_noise = False)\n",
    "# Training run 2\n",
    "training_run(\"data\\\\symmetry_global\\\\ds2\", resume_model = None, im_noise = False) # Train a new model according to the paper\n",
    "# Training run 3\n",
    "training_run(\"data\\\\symmetry_global\\\\ds3\", resume_model = None, im_noise = False) # Train a new model according to the paper\n",
    "# Training run 4\n",
    "training_run(\"data\\\\symmetry_global\\\\ds4\", resume_model = None, im_noise = False)"
   ]
  },
  {
   "cell_type": "markdown",
   "metadata": {},
   "source": [
    "Since the kernel is crashing repetedly even after trying out lots of modifications I have just written the code without testing it."
   ]
  },
  {
   "cell_type": "markdown",
   "metadata": {},
   "source": [
    "## Testing Run\n",
    "This will also run on ds1,ds2,ds3,ds4"
   ]
  },
  {
   "cell_type": "markdown",
   "metadata": {},
   "source": [
    "We will use the same helper functions for testing as in the case of InceptionV3 so I have imported them directly from the `test_incep3.py` file"
   ]
  },
  {
   "cell_type": "code",
   "execution_count": 15,
   "metadata": {},
   "outputs": [],
   "source": [
    "import test_incep3\n",
    "import matplotlib.pyplot as plt"
   ]
  },
  {
   "cell_type": "code",
   "execution_count": 21,
   "metadata": {},
   "outputs": [],
   "source": [
    "def testing_run(ds_number=1,debug=True, modelfile=None, num_classes=2):\n",
    "    debug = debug\n",
    "    ds = f\"data\\\\symmetry_global\\\\ds{ds_number}\"\n",
    "    testfile = 'test.data'\n",
    "    modelfile = modelfile\n",
    "    \n",
    "    \n",
    "    nb_epoch2 = 70\n",
    "    \n",
    "    model = build_inceptionV4(num_classes=num_classes)\n",
    "\n",
    "    if modelfile is None:\n",
    "        model_weights = ds+\"_incep3-%d.hdf5\"%(nb_epoch2)\n",
    "    else:\n",
    "        model_weights = modelfile\n",
    "    \n",
    "    print('load weight: ',model_weights)\n",
    "    model.load_weights(model_weights)\n",
    "    \n",
    "    # load testing data\n",
    "    tx, ty = test_incep3.read_dataset(os.path.join(ds,testfile))\n",
    "    tx = test_incep3.preprocessing_img(tx)\n",
    "    tx = np.asarray(tx)[:, np.newaxis, :, :]\n",
    "    tx = np.repeat(tx, 3, axis=1)\n",
    "    \n",
    "    print('test on %d samples'%len(ty))\n",
    "    \n",
    "    preds = model.predict(tx, verbose=0)\n",
    "    print(\"error:\",test_incep3.get_error(ty, preds[:,1]>preds[:,0]))\n",
    "    print(\"confusion:\")\n",
    "    print(test_incep3.get_confusion_matrix(ty, preds[:,1]>preds[:,0]))\n",
    "    \n",
    "    fpr, tpr, thresholds = test_incep3.metrics.roc_curve(ty, preds[:,1], pos_label=1)\n",
    "    auc = test_incep3.metrics.auc(fpr, tpr)\n",
    "    plt.ion()\n",
    "    plt.plot(fpr, tpr)\n",
    "    plt.title('auc: '+str(auc))\n",
    "    plt.xlabel('FPR')\n",
    "    plt.ylabel('TPR')\n",
    "    plt.show()\n",
    "    \n",
    "    #----------\n",
    "    ## debug: dump error cases\n",
    "    if debug:\n",
    "        err_dump_dir = 'err_'+ds+'_'+testfile[:-len('.data')]\n",
    "        if os.path.exists(err_dump_dir):\n",
    "            test_incep3.shutil.rmtree(err_dump_dir)\n",
    "        os.mkdir(err_dump_dir)\n",
    "        \n",
    "        os.mkdir(os.path.join(err_dump_dir, '0'))\n",
    "        os.mkdir(os.path.join(err_dump_dir, '1'))\n",
    "        n_0 = sum(np.array(ty)==0)\n",
    "        for i in range(n_0):\n",
    "            y, py = ty[i], preds[i,1]\n",
    "            if y != (py>0.5):\n",
    "                test_incep3.misc.imsave(os.path.join(err_dump_dir, str(y), str(i)+'_'+str(py)+'.png'), tx[i, 0])\n",
    "        for i in range(n_0, len(ty)):\n",
    "            y, py = ty[i], preds[i,1]\n",
    "            if y != (py>0.5):\n",
    "                test_incep3.misc.imsave(os.path.join(err_dump_dir, str(y), str(i-n_0)+'_'+str(py)+'.png'), tx[i, 0])"
   ]
  },
  {
   "cell_type": "code",
   "execution_count": null,
   "metadata": {},
   "outputs": [],
   "source": [
    "# Test Model 1\n",
    "testing_run(\"data\\\\symmetry_global\\\\ds1\", debug=True, modelfile=None)\n",
    "# Test Model 2\n",
    "testing_run(\"data\\\\symmetry_global\\\\ds2\", debug=True, modelfile=None)\n",
    "# Test Model 3\n",
    "testing_run(\"data\\\\symmetry_global\\\\ds3\", debug=True, modelfile=None)\n",
    "# Test Model 4\n",
    "# Test using model 1,2,3 according to the paper\n",
    "testing_run(\"data\\\\symmetry_global\\\\ds4\", debug=True, modelfile=\"models/data\\\\symmetry_global\\\\ds1_incep3-70.weights.h5\")\n",
    "testing_run(\"data\\\\symmetry_global\\\\ds4\", debug=True, modelfile=\"models/data\\\\symmetry_global\\\\ds2_incep3-70.weights.h5\")\n",
    "testing_run(\"data\\\\symmetry_global\\\\ds4\", debug=True, modelfile=\"models/data\\\\symmetry_global\\\\ds3_incep3-70.weights.h5\")\n",
    "testing_run(\"data\\\\symmetry_global\\\\ds4\", debug=True, modelfile=\"models/data\\\\symmetry_global\\\\ds4_incep3-70.weights.h5\")"
   ]
  },
  {
   "cell_type": "markdown",
   "metadata": {},
   "source": [
    "# Part c"
   ]
  },
  {
   "cell_type": "markdown",
   "metadata": {},
   "source": [
    "## Generate Data\n",
    "First of all we need to generate data for this part as I was not getting the appropriate dataset online, I have written the code to generate this dataset myself by modifying the __MNIST dataset__ in the `createImage_withDots.py` file. This basically takes the data and adds dots spaced evenly throughout the image since the image is white and the background is black adding black dots will only cover the image.\n",
    "Just run the file as\n",
    "```\n",
    "python createImage_withDots.py\n",
    "```\n",
    "The images will be stored in the `mnist_dots` directory"
   ]
  },
  {
   "cell_type": "code",
   "execution_count": 17,
   "metadata": {},
   "outputs": [
    {
     "data": {
      "image/png": "[encoded data removed]",
      "text/plain": [
       "<Figure size 640x480 with 1 Axes>"
      ]
     },
     "metadata": {},
     "output_type": "display_data"
    }
   ],
   "source": [
    "# Display a sample of the images created\n",
    "import matplotlib.pyplot as plt\n",
    "import matplotlib.image as mpimg\n",
    "\n",
    "image_path = \"mnist_dots/test/0/0.png\"\n",
    "\n",
    "img = mpimg.imread(image_path)\n",
    "plt.imshow(img)\n",
    "plt.axis(\"off\")  # Hide axis\n",
    "plt.show()"
   ]
  },
  {
   "cell_type": "markdown",
   "metadata": {},
   "source": [
    "## Train and Test"
   ]
  },
  {
   "cell_type": "markdown",
   "metadata": {},
   "source": [
    "Since the model is not training in my computer I have not trained it but the code that is used in the above case can be reused"
   ]
  },
  {
   "cell_type": "code",
   "execution_count": 24,
   "metadata": {},
   "outputs": [
    {
     "name": "stdout",
     "output_type": "stream",
     "text": [
      "tx.shape:  (20, 299, 299)\n",
      "vx.shape:  (20, 299, 299)\n",
      "About to build model\n"
     ]
    },
    {
     "name": "stderr",
     "output_type": "stream",
     "text": [
      "/home/sankalp/CGS786_assn3/final_implementation/inception_v4.py:279: UserWarning: You are using the TensorFlow backend, yet you are using the Theano image data format convention (`image_data_format=\"channels_first\"`). For best performance, set `image_data_format=\"channels_last\"` in your Keras config at ~/.keras/keras.json.\n",
      "  warnings.warn('You are using the TensorFlow backend, yet you '\n",
      "/home/sankalp/.local/lib/python3.12/site-packages/keras/src/trainers/data_adapters/py_dataset_adapter.py:121: UserWarning: Your `PyDataset` class should call `super().__init__(**kwargs)` in its constructor. `**kwargs` can include `workers`, `use_multiprocessing`, `max_queue_size`. Do not pass these arguments to `fit()`, as they will be ignored.\n",
      "  self._warn_if_super_not_called()\n"
     ]
    },
    {
     "name": "stdout",
     "output_type": "stream",
     "text": [
      "Epoch 1/70\n"
     ]
    },
    {
     "ename": "",
     "evalue": "",
     "output_type": "error",
     "traceback": [
      "\u001b[1;31mThe Kernel crashed while executing code in the current cell or a previous cell. \n",
      "\u001b[1;31mPlease review the code in the cell(s) to identify a possible cause of the failure. \n",
      "\u001b[1;31mClick <a href='https://aka.ms/vscodeJupyterKernelCrash'>here</a> for more info. \n",
      "\u001b[1;31mView Jupyter <a href='command:jupyter.viewOutput'>log</a> for further details."
     ]
    }
   ],
   "source": [
    "training_run(\"mnist_dots\", resume_model = None, im_noise = False,num_classes=10)"
   ]
  },
  {
   "cell_type": "code",
   "execution_count": null,
   "metadata": {},
   "outputs": [],
   "source": [
    "testing_run(\"mnist_dots\", debug=True, modelfile=None)"
   ]
  }
 ],
 "metadata": {
  "kernelspec": {
   "display_name": "Python 3",
   "language": "python",
   "name": "python3"
  },
  "language_info": {
   "codemirror_mode": {
    "name": "ipython",
    "version": 3
   },
   "file_extension": ".py",
   "mimetype": "text/x-python",
   "name": "python",
   "nbconvert_exporter": "python",
   "pygments_lexer": "ipython3",
   "version": "3.12.3"
  }
 },
 "nbformat": 4,
 "nbformat_minor": 2
}
